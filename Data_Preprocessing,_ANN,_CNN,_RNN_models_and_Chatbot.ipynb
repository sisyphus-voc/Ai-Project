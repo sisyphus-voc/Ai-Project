{
  "nbformat": 4,
  "nbformat_minor": 0,
  "metadata": {
    "colab": {
      "provenance": []
    },
    "kernelspec": {
      "name": "python3",
      "display_name": "Python 3"
    },
    "language_info": {
      "name": "python"
    }
  },
  "cells": [
    {
      "cell_type": "markdown",
      "source": [
        "# Importing Libraries and Loading Data:"
      ],
      "metadata": {
        "id": "9ZOck-k44JHo"
      }
    },
    {
      "cell_type": "code",
      "execution_count": null,
      "metadata": {
        "colab": {
          "base_uri": "https://localhost:8080/"
        },
        "id": "eEu8S4622_qc",
        "outputId": "7f17deb5-7ce2-40d2-fa50-89bb2118727f"
      },
      "outputs": [
        {
          "output_type": "stream",
          "name": "stderr",
          "text": [
            "[nltk_data] Downloading package stopwords to /root/nltk_data...\n",
            "[nltk_data]   Unzipping corpora/stopwords.zip.\n",
            "[nltk_data] Downloading package wordnet to /root/nltk_data...\n"
          ]
        },
        {
          "output_type": "stream",
          "name": "stdout",
          "text": [
            "   Category                                           Question  \\\n",
            "0  Services      What services does your software house offer?   \n",
            "1  Services             Do you provide mobile app development?   \n",
            "2  Services  Can you handle enterprise-level software devel...   \n",
            "3  Services      Do you offer e-commerce development services?   \n",
            "4  Services        Do you provide web application development?   \n",
            "\n",
            "                                              Answer  \n",
            "0  We offer custom software development, mobile a...  \n",
            "1  Yes, we develop native and cross-platform mobi...  \n",
            "2  Yes, we specialize in building scalable and se...  \n",
            "3  Yes, we create custom e-commerce platforms and...  \n",
            "4  Yes, we develop responsive and robust web appl...  \n"
          ]
        }
      ],
      "source": [
        "import pandas as pd\n",
        "import numpy as np\n",
        "import re\n",
        "from sklearn.model_selection import train_test_split\n",
        "from sklearn.feature_extraction.text import TfidfVectorizer, CountVectorizer\n",
        "from nltk.corpus import stopwords\n",
        "from nltk.stem import WordNetLemmatizer, PorterStemmer\n",
        "import nltk\n",
        "nltk.download('stopwords')\n",
        "nltk.download('wordnet')\n",
        "\n",
        "\n",
        "data = pd.read_csv('faq_dataset.csv')\n",
        "print(data.head())\n"
      ]
    },
    {
      "cell_type": "markdown",
      "source": [
        "# Text Cleaning:\n",
        "\n",
        "* Lowercasing\n",
        "* Removing special characters and numbers\n",
        "* Removing stop words\n",
        "* Tokenizing\n",
        "* Stemming or Lemmatization\n",
        "\n",
        "\n",
        "\n"
      ],
      "metadata": {
        "id": "VU7q-T934bvo"
      }
    },
    {
      "cell_type": "code",
      "source": [
        "stop_words = set(stopwords.words('english'))\n",
        "lemmatizer = WordNetLemmatizer()\n",
        "stemmer = PorterStemmer()\n",
        "\n",
        "def preprocess_text(text):\n",
        "    # Lowercase\n",
        "    text = text.lower()\n",
        "    # Remove special characters and numbers\n",
        "    text = re.sub(r'[^a-zA-Z\\s]', '', text)\n",
        "    # Tokenize and remove stop words\n",
        "    tokens = text.split()\n",
        "    tokens = [word for word in tokens if word not in stop_words]\n",
        "    # Lemmatize or Stem\n",
        "    tokens = [lemmatizer.lemmatize(word) for word in tokens]\n",
        "    # Join back into a string\n",
        "    return ' '.join(tokens)\n",
        "\n",
        "data['Questions_cleaned'] = data['Question'].apply(preprocess_text)\n",
        "data['Answers_cleaned'] = data['Answer'].apply(preprocess_text)\n",
        "print(data.head())\n"
      ],
      "metadata": {
        "colab": {
          "base_uri": "https://localhost:8080/"
        },
        "id": "C1QqZBWN4nyj",
        "outputId": "8d66569e-1e77-4542-9dbd-ea27191431e3"
      },
      "execution_count": null,
      "outputs": [
        {
          "output_type": "stream",
          "name": "stdout",
          "text": [
            "   Category                                           Question  \\\n",
            "0  Services      What services does your software house offer?   \n",
            "1  Services             Do you provide mobile app development?   \n",
            "2  Services  Can you handle enterprise-level software devel...   \n",
            "3  Services      Do you offer e-commerce development services?   \n",
            "4  Services        Do you provide web application development?   \n",
            "\n",
            "                                              Answer  \\\n",
            "0  We offer custom software development, mobile a...   \n",
            "1  Yes, we develop native and cross-platform mobi...   \n",
            "2  Yes, we specialize in building scalable and se...   \n",
            "3  Yes, we create custom e-commerce platforms and...   \n",
            "4  Yes, we develop responsive and robust web appl...   \n",
            "\n",
            "                             Questions_cleaned  \\\n",
            "0                 service software house offer   \n",
            "1               provide mobile app development   \n",
            "2  handle enterpriselevel software development   \n",
            "3          offer ecommerce development service   \n",
            "4          provide web application development   \n",
            "\n",
            "                                     Answers_cleaned  \n",
            "0  offer custom software development mobile web a...  \n",
            "1  yes develop native crossplatform mobile apps u...  \n",
            "2  yes specialize building scalable secure enterp...  \n",
            "3  yes create custom ecommerce platform integrate...  \n",
            "4  yes develop responsive robust web application ...  \n"
          ]
        }
      ]
    },
    {
      "cell_type": "markdown",
      "source": [
        "# Bag of Words (BOW) and TF-IDF"
      ],
      "metadata": {
        "id": "YwupgRl05Vxf"
      }
    },
    {
      "cell_type": "code",
      "source": [
        "vectorizer_bow = CountVectorizer()\n",
        "vectorizer_tfidf = TfidfVectorizer()\n",
        "\n",
        "# BOW Representation\n",
        "bow_matrix = vectorizer_bow.fit_transform(data['Questions_cleaned'])\n",
        "# TF-IDF Representation\n",
        "tfidf_matrix = vectorizer_tfidf.fit_transform(data['Questions_cleaned'])\n",
        "\n",
        "print(f\"BOW Shape: {bow_matrix.shape}, TF-IDF Shape: {tfidf_matrix.shape}\")\n"
      ],
      "metadata": {
        "id": "rH0b1m5I5ZUa",
        "outputId": "2b0c6817-3425-4230-dfae-4f8f3b0f9e0c",
        "colab": {
          "base_uri": "https://localhost:8080/"
        }
      },
      "execution_count": null,
      "outputs": [
        {
          "output_type": "stream",
          "name": "stdout",
          "text": [
            "BOW Shape: (1166, 1021), TF-IDF Shape: (1166, 1021)\n"
          ]
        }
      ]
    },
    {
      "cell_type": "markdown",
      "source": [
        "#  Train-Test Split\n",
        "\n"
      ],
      "metadata": {
        "id": "pYwhw9sWN-Gr"
      }
    },
    {
      "cell_type": "markdown",
      "source": [
        "The code splits your dataset into two parts: **training set and test set**.\n",
        "Here’s what each component means:\n",
        "\n",
        "tfidf_matrix: This is the feature matrix (input data) generated after transforming your Questions using TF-IDF vectorization. This represents the numerical representation of your questions.\n",
        "\n",
        "data['Answers_cleaned']: This is the target column (output data) containing the cleaned Answers. It’s the value you want the model to predict.\n",
        "\n",
        "test_size=0.2: Specifies the size of the test set. 0.2 means 20% of the data will be used for testing, while the remaining 80% will be used for training.\n",
        "\n",
        "random_state=42: Ensures the split is reproducible. If you rerun the code with the same random seed (42), you'll get the same split every time. If you omit this, the split will vary each time you run the code.\n",
        "\n",
        "The output is:\n",
        "\n",
        "X_train: 80% of the feature data for training the model.\n",
        "X_test: 20% of the feature data for testing the model.\n",
        "y_train: 80% of the corresponding labels (answers) for training.\n",
        "y_test: 20% of the corresponding labels for testing.\n",
        "2. Why is it done here?\n",
        "The train-test split is a key step in machine learning for evaluating the model’s performance on unseen data. Here's why:\n",
        "\n",
        "Prevent Overfitting:\n",
        "\n",
        "The model is trained on X_train and y_train, learning patterns and relationships from this data.\n",
        "Without a test set, you wouldn’t know how the model generalizes to new, unseen data. Testing on the same data used for training can give overly optimistic results (overfitting).\n",
        "Evaluate Generalization:\n",
        "\n",
        "X_test and y_test simulate how the model will perform on real-world data.\n",
        "The test set helps measure the model’s accuracy and reliability on unseen questions.\n",
        "Maintain Data Integrity:\n",
        "\n",
        "Keeping separate training and testing datasets ensures the model doesn't \"leak\" knowledge from the test set into training, which would lead to biased results.\n",
        "Standard Practice:\n",
        "\n",
        "Splitting the data is a standard practice in ML pipelines. It ensures you can independently evaluate the trained model's performance without compromising its validity.\n",
        "Steps Involved in Train-Test Split in Your Case\n",
        "Input (tfidf_matrix): The feature matrix (Questions) generated by TF-IDF vectorization.\n",
        "\n",
        "Example: A matrix where each row corresponds to a question, and each column represents the TF-IDF score of a term.\n",
        "Output (Answers_cleaned): The cleaned answers are the labels the model is trained to predict.\n",
        "\n",
        "Resulting Splits:\n",
        "\n",
        "* X_train: Training feature data (questions).\n",
        "* y_train: Training labels (answers).\n",
        "* X_test: Testing feature data (questions).\n",
        "* y_test: Testing labels (answers).\n"
      ],
      "metadata": {
        "id": "trbzxyTaTlsb"
      }
    },
    {
      "cell_type": "code",
      "source": [
        "X_train, X_test, y_train, y_test = train_test_split(\n",
        "    tfidf_matrix, data['Answers_cleaned'], test_size=0.2, random_state=42\n",
        ")\n"
      ],
      "metadata": {
        "id": "F1oPTxpTOHsO"
      },
      "execution_count": null,
      "outputs": []
    },
    {
      "cell_type": "markdown",
      "source": [
        "# Models Implementation"
      ],
      "metadata": {
        "id": "igSJYXalVEkR"
      }
    },
    {
      "cell_type": "markdown",
      "source": [
        "## 1-ANN"
      ],
      "metadata": {
        "id": "AwuZZDvOVGvQ"
      }
    },
    {
      "cell_type": "markdown",
      "source": [
        "### Import necessary libraries:"
      ],
      "metadata": {
        "id": "kznmtTPWYbhb"
      }
    },
    {
      "cell_type": "code",
      "source": [
        "import tensorflow as tf\n",
        "from tensorflow.keras.models import Sequential\n",
        "from tensorflow.keras.layers import Dense, Dropout\n",
        "from sklearn.preprocessing import LabelEncoder\n",
        "from sklearn.metrics import classification_report, accuracy_score\n",
        "\n"
      ],
      "metadata": {
        "id": "61GtFK5yYaQX"
      },
      "execution_count": null,
      "outputs": []
    },
    {
      "cell_type": "markdown",
      "source": [],
      "metadata": {
        "id": "srQ1TzjtasXd"
      }
    },
    {
      "cell_type": "code",
      "source": [
        "# Combine y_train and y_test to fit the LabelEncoder on all unique labels\n",
        "all_answers = list(y_train) + list(y_test)\n",
        "\n",
        "# Initialize and fit the LabelEncoder on all answers\n",
        "label_encoder = LabelEncoder()\n",
        "label_encoder.fit(all_answers)\n",
        "\n",
        "# Transform the labels\n",
        "y_train_encoded = label_encoder.transform(y_train)\n",
        "y_test_encoded = label_encoder.transform(y_test)"
      ],
      "metadata": {
        "id": "Qr-0TH2Xas6G"
      },
      "execution_count": null,
      "outputs": []
    },
    {
      "cell_type": "markdown",
      "source": [
        "### Define and Compile Model"
      ],
      "metadata": {
        "id": "4STdJo2zYgzL"
      }
    },
    {
      "cell_type": "code",
      "source": [
        "ann_model = Sequential([\n",
        "    Dense(128, activation='relu', input_shape=(X_train.shape[1],)),\n",
        "    Dropout(0.2),\n",
        "    Dense(64, activation='relu'),\n",
        "    Dense(1, activation='sigmoid')  # Binary classification\n",
        "])\n",
        "\n",
        "ann_model.compile(optimizer='adam', loss='binary_crossentropy', metrics=['accuracy'])\n",
        "ann_model.summary()\n",
        "\n",
        "\n",
        "# Define the ANN model\n",
        "ann_model = Sequential([\n",
        "    Dense(128, activation='relu', input_dim=X_train.shape[1]),  # Input layer\n",
        "    Dropout(0.2),  # Dropout for regularization\n",
        "    Dense(64, activation='relu'),  # Hidden layer\n",
        "    Dropout(0.2),\n",
        "    Dense(len(label_encoder.classes_), activation='softmax')  # Output layer\n",
        "])"
      ],
      "metadata": {
        "colab": {
          "base_uri": "https://localhost:8080/",
          "height": 324
        },
        "id": "UoaLOeEwYuqd",
        "outputId": "9ebce9d4-3bc3-4376-fd8a-3ef2d3e5fe77"
      },
      "execution_count": null,
      "outputs": [
        {
          "output_type": "stream",
          "name": "stderr",
          "text": [
            "/usr/local/lib/python3.10/dist-packages/keras/src/layers/core/dense.py:87: UserWarning: Do not pass an `input_shape`/`input_dim` argument to a layer. When using Sequential models, prefer using an `Input(shape)` object as the first layer in the model instead.\n",
            "  super().__init__(activity_regularizer=activity_regularizer, **kwargs)\n"
          ]
        },
        {
          "output_type": "display_data",
          "data": {
            "text/plain": [
              "\u001b[1mModel: \"sequential\"\u001b[0m\n"
            ],
            "text/html": [
              "<pre style=\"white-space:pre;overflow-x:auto;line-height:normal;font-family:Menlo,'DejaVu Sans Mono',consolas,'Courier New',monospace\"><span style=\"font-weight: bold\">Model: \"sequential\"</span>\n",
              "</pre>\n"
            ]
          },
          "metadata": {}
        },
        {
          "output_type": "display_data",
          "data": {
            "text/plain": [
              "┏━━━━━━━━━━━━━━━━━━━━━━━━━━━━━━━━━━━━━━┳━━━━━━━━━━━━━━━━━━━━━━━━━━━━━┳━━━━━━━━━━━━━━━━━┓\n",
              "┃\u001b[1m \u001b[0m\u001b[1mLayer (type)                        \u001b[0m\u001b[1m \u001b[0m┃\u001b[1m \u001b[0m\u001b[1mOutput Shape               \u001b[0m\u001b[1m \u001b[0m┃\u001b[1m \u001b[0m\u001b[1m        Param #\u001b[0m\u001b[1m \u001b[0m┃\n",
              "┡━━━━━━━━━━━━━━━━━━━━━━━━━━━━━━━━━━━━━━╇━━━━━━━━━━━━━━━━━━━━━━━━━━━━━╇━━━━━━━━━━━━━━━━━┩\n",
              "│ dense (\u001b[38;5;33mDense\u001b[0m)                        │ (\u001b[38;5;45mNone\u001b[0m, \u001b[38;5;34m128\u001b[0m)                 │         \u001b[38;5;34m130,816\u001b[0m │\n",
              "├──────────────────────────────────────┼─────────────────────────────┼─────────────────┤\n",
              "│ dropout (\u001b[38;5;33mDropout\u001b[0m)                    │ (\u001b[38;5;45mNone\u001b[0m, \u001b[38;5;34m128\u001b[0m)                 │               \u001b[38;5;34m0\u001b[0m │\n",
              "├──────────────────────────────────────┼─────────────────────────────┼─────────────────┤\n",
              "│ dense_1 (\u001b[38;5;33mDense\u001b[0m)                      │ (\u001b[38;5;45mNone\u001b[0m, \u001b[38;5;34m64\u001b[0m)                  │           \u001b[38;5;34m8,256\u001b[0m │\n",
              "├──────────────────────────────────────┼─────────────────────────────┼─────────────────┤\n",
              "│ dense_2 (\u001b[38;5;33mDense\u001b[0m)                      │ (\u001b[38;5;45mNone\u001b[0m, \u001b[38;5;34m1\u001b[0m)                   │              \u001b[38;5;34m65\u001b[0m │\n",
              "└──────────────────────────────────────┴─────────────────────────────┴─────────────────┘\n"
            ],
            "text/html": [
              "<pre style=\"white-space:pre;overflow-x:auto;line-height:normal;font-family:Menlo,'DejaVu Sans Mono',consolas,'Courier New',monospace\">┏━━━━━━━━━━━━━━━━━━━━━━━━━━━━━━━━━━━━━━┳━━━━━━━━━━━━━━━━━━━━━━━━━━━━━┳━━━━━━━━━━━━━━━━━┓\n",
              "┃<span style=\"font-weight: bold\"> Layer (type)                         </span>┃<span style=\"font-weight: bold\"> Output Shape                </span>┃<span style=\"font-weight: bold\">         Param # </span>┃\n",
              "┡━━━━━━━━━━━━━━━━━━━━━━━━━━━━━━━━━━━━━━╇━━━━━━━━━━━━━━━━━━━━━━━━━━━━━╇━━━━━━━━━━━━━━━━━┩\n",
              "│ dense (<span style=\"color: #0087ff; text-decoration-color: #0087ff\">Dense</span>)                        │ (<span style=\"color: #00d7ff; text-decoration-color: #00d7ff\">None</span>, <span style=\"color: #00af00; text-decoration-color: #00af00\">128</span>)                 │         <span style=\"color: #00af00; text-decoration-color: #00af00\">130,816</span> │\n",
              "├──────────────────────────────────────┼─────────────────────────────┼─────────────────┤\n",
              "│ dropout (<span style=\"color: #0087ff; text-decoration-color: #0087ff\">Dropout</span>)                    │ (<span style=\"color: #00d7ff; text-decoration-color: #00d7ff\">None</span>, <span style=\"color: #00af00; text-decoration-color: #00af00\">128</span>)                 │               <span style=\"color: #00af00; text-decoration-color: #00af00\">0</span> │\n",
              "├──────────────────────────────────────┼─────────────────────────────┼─────────────────┤\n",
              "│ dense_1 (<span style=\"color: #0087ff; text-decoration-color: #0087ff\">Dense</span>)                      │ (<span style=\"color: #00d7ff; text-decoration-color: #00d7ff\">None</span>, <span style=\"color: #00af00; text-decoration-color: #00af00\">64</span>)                  │           <span style=\"color: #00af00; text-decoration-color: #00af00\">8,256</span> │\n",
              "├──────────────────────────────────────┼─────────────────────────────┼─────────────────┤\n",
              "│ dense_2 (<span style=\"color: #0087ff; text-decoration-color: #0087ff\">Dense</span>)                      │ (<span style=\"color: #00d7ff; text-decoration-color: #00d7ff\">None</span>, <span style=\"color: #00af00; text-decoration-color: #00af00\">1</span>)                   │              <span style=\"color: #00af00; text-decoration-color: #00af00\">65</span> │\n",
              "└──────────────────────────────────────┴─────────────────────────────┴─────────────────┘\n",
              "</pre>\n"
            ]
          },
          "metadata": {}
        },
        {
          "output_type": "display_data",
          "data": {
            "text/plain": [
              "\u001b[1m Total params: \u001b[0m\u001b[38;5;34m139,137\u001b[0m (543.50 KB)\n"
            ],
            "text/html": [
              "<pre style=\"white-space:pre;overflow-x:auto;line-height:normal;font-family:Menlo,'DejaVu Sans Mono',consolas,'Courier New',monospace\"><span style=\"font-weight: bold\"> Total params: </span><span style=\"color: #00af00; text-decoration-color: #00af00\">139,137</span> (543.50 KB)\n",
              "</pre>\n"
            ]
          },
          "metadata": {}
        },
        {
          "output_type": "display_data",
          "data": {
            "text/plain": [
              "\u001b[1m Trainable params: \u001b[0m\u001b[38;5;34m139,137\u001b[0m (543.50 KB)\n"
            ],
            "text/html": [
              "<pre style=\"white-space:pre;overflow-x:auto;line-height:normal;font-family:Menlo,'DejaVu Sans Mono',consolas,'Courier New',monospace\"><span style=\"font-weight: bold\"> Trainable params: </span><span style=\"color: #00af00; text-decoration-color: #00af00\">139,137</span> (543.50 KB)\n",
              "</pre>\n"
            ]
          },
          "metadata": {}
        },
        {
          "output_type": "display_data",
          "data": {
            "text/plain": [
              "\u001b[1m Non-trainable params: \u001b[0m\u001b[38;5;34m0\u001b[0m (0.00 B)\n"
            ],
            "text/html": [
              "<pre style=\"white-space:pre;overflow-x:auto;line-height:normal;font-family:Menlo,'DejaVu Sans Mono',consolas,'Courier New',monospace\"><span style=\"font-weight: bold\"> Non-trainable params: </span><span style=\"color: #00af00; text-decoration-color: #00af00\">0</span> (0.00 B)\n",
              "</pre>\n"
            ]
          },
          "metadata": {}
        }
      ]
    },
    {
      "cell_type": "markdown",
      "source": [
        "![image.png](data:image/png;base64,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)"
      ],
      "metadata": {
        "id": "GBYifNp0mVPc"
      }
    },
    {
      "cell_type": "markdown",
      "source": [
        "### Training ANN Model"
      ],
      "metadata": {
        "id": "ANwUhyMCZFvG"
      }
    },
    {
      "cell_type": "code",
      "source": [
        "history_ann = ann_model.fit(X_train.toarray(), y_train, epochs=10, batch_size=32, validation_split=0.1)\n"
      ],
      "metadata": {
        "colab": {
          "base_uri": "https://localhost:8080/",
          "height": 1000
        },
        "id": "d6Hcmo4IZEYd",
        "outputId": "97c85099-dc98-4a63-e031-9fb5d100c216"
      },
      "execution_count": null,
      "outputs": [
        {
          "output_type": "stream",
          "name": "stdout",
          "text": [
            "Epoch 1/10\n"
          ]
        },
        {
          "output_type": "error",
          "ename": "UnimplementedError",
          "evalue": "Graph execution error:\n\nDetected at node compile_loss/binary_crossentropy/Cast defined at (most recent call last):\n  File \"/usr/lib/python3.10/runpy.py\", line 196, in _run_module_as_main\n\n  File \"/usr/lib/python3.10/runpy.py\", line 86, in _run_code\n\n  File \"/usr/local/lib/python3.10/dist-packages/colab_kernel_launcher.py\", line 37, in <module>\n\n  File \"/usr/local/lib/python3.10/dist-packages/traitlets/config/application.py\", line 992, in launch_instance\n\n  File \"/usr/local/lib/python3.10/dist-packages/ipykernel/kernelapp.py\", line 619, in start\n\n  File \"/usr/local/lib/python3.10/dist-packages/tornado/platform/asyncio.py\", line 195, in start\n\n  File \"/usr/lib/python3.10/asyncio/base_events.py\", line 603, in run_forever\n\n  File \"/usr/lib/python3.10/asyncio/base_events.py\", line 1909, in _run_once\n\n  File \"/usr/lib/python3.10/asyncio/events.py\", line 80, in _run\n\n  File \"/usr/local/lib/python3.10/dist-packages/tornado/ioloop.py\", line 685, in <lambda>\n\n  File \"/usr/local/lib/python3.10/dist-packages/tornado/ioloop.py\", line 738, in _run_callback\n\n  File \"/usr/local/lib/python3.10/dist-packages/tornado/gen.py\", line 825, in inner\n\n  File \"/usr/local/lib/python3.10/dist-packages/tornado/gen.py\", line 786, in run\n\n  File \"/usr/local/lib/python3.10/dist-packages/ipykernel/kernelbase.py\", line 361, in process_one\n\n  File \"/usr/local/lib/python3.10/dist-packages/tornado/gen.py\", line 234, in wrapper\n\n  File \"/usr/local/lib/python3.10/dist-packages/ipykernel/kernelbase.py\", line 261, in dispatch_shell\n\n  File \"/usr/local/lib/python3.10/dist-packages/tornado/gen.py\", line 234, in wrapper\n\n  File \"/usr/local/lib/python3.10/dist-packages/ipykernel/kernelbase.py\", line 539, in execute_request\n\n  File \"/usr/local/lib/python3.10/dist-packages/tornado/gen.py\", line 234, in wrapper\n\n  File \"/usr/local/lib/python3.10/dist-packages/ipykernel/ipkernel.py\", line 302, in do_execute\n\n  File \"/usr/local/lib/python3.10/dist-packages/ipykernel/zmqshell.py\", line 539, in run_cell\n\n  File \"/usr/local/lib/python3.10/dist-packages/IPython/core/interactiveshell.py\", line 2975, in run_cell\n\n  File \"/usr/local/lib/python3.10/dist-packages/IPython/core/interactiveshell.py\", line 3030, in _run_cell\n\n  File \"/usr/local/lib/python3.10/dist-packages/IPython/core/async_helpers.py\", line 78, in _pseudo_sync_runner\n\n  File \"/usr/local/lib/python3.10/dist-packages/IPython/core/interactiveshell.py\", line 3257, in run_cell_async\n\n  File \"/usr/local/lib/python3.10/dist-packages/IPython/core/interactiveshell.py\", line 3473, in run_ast_nodes\n\n  File \"/usr/local/lib/python3.10/dist-packages/IPython/core/interactiveshell.py\", line 3553, in run_code\n\n  File \"<ipython-input-10-08bada317efb>\", line 1, in <cell line: 1>\n\n  File \"/usr/local/lib/python3.10/dist-packages/keras/src/utils/traceback_utils.py\", line 117, in error_handler\n\n  File \"/usr/local/lib/python3.10/dist-packages/keras/src/backend/tensorflow/trainer.py\", line 320, in fit\n\n  File \"/usr/local/lib/python3.10/dist-packages/keras/src/backend/tensorflow/trainer.py\", line 121, in one_step_on_iterator\n\n  File \"/usr/local/lib/python3.10/dist-packages/keras/src/backend/tensorflow/trainer.py\", line 108, in one_step_on_data\n\n  File \"/usr/local/lib/python3.10/dist-packages/keras/src/backend/tensorflow/trainer.py\", line 54, in train_step\n\n  File \"/usr/local/lib/python3.10/dist-packages/keras/src/trainers/trainer.py\", line 359, in _compute_loss\n\n  File \"/usr/local/lib/python3.10/dist-packages/keras/src/trainers/trainer.py\", line 327, in compute_loss\n\n  File \"/usr/local/lib/python3.10/dist-packages/keras/src/trainers/compile_utils.py\", line 611, in __call__\n\n  File \"/usr/local/lib/python3.10/dist-packages/keras/src/trainers/compile_utils.py\", line 652, in call\n\n  File \"/usr/local/lib/python3.10/dist-packages/keras/src/losses/loss.py\", line 56, in __call__\n\n  File \"/usr/local/lib/python3.10/dist-packages/keras/src/tree/tree_api.py\", line 148, in map_structure\n\n  File \"/usr/local/lib/python3.10/dist-packages/keras/src/tree/optree_impl.py\", line 79, in map_structure\n\n  File \"/usr/local/lib/python3.10/dist-packages/optree/ops.py\", line 752, in tree_map\n\n  File \"/usr/local/lib/python3.10/dist-packages/keras/src/losses/loss.py\", line 57, in <lambda>\n\n  File \"/usr/local/lib/python3.10/dist-packages/keras/src/ops/core.py\", line 822, in convert_to_tensor\n\n  File \"/usr/local/lib/python3.10/dist-packages/keras/src/backend/tensorflow/core.py\", line 132, in convert_to_tensor\n\nCast string to float is not supported\n\t [[{{node compile_loss/binary_crossentropy/Cast}}]] [Op:__inference_one_step_on_iterator_1488]",
          "traceback": [
            "\u001b[0;31m---------------------------------------------------------------------------\u001b[0m",
            "\u001b[0;31mUnimplementedError\u001b[0m                        Traceback (most recent call last)",
            "\u001b[0;32m<ipython-input-10-08bada317efb>\u001b[0m in \u001b[0;36m<cell line: 1>\u001b[0;34m()\u001b[0m\n\u001b[0;32m----> 1\u001b[0;31m \u001b[0mhistory_ann\u001b[0m \u001b[0;34m=\u001b[0m \u001b[0mann_model\u001b[0m\u001b[0;34m.\u001b[0m\u001b[0mfit\u001b[0m\u001b[0;34m(\u001b[0m\u001b[0mX_train\u001b[0m\u001b[0;34m.\u001b[0m\u001b[0mtoarray\u001b[0m\u001b[0;34m(\u001b[0m\u001b[0;34m)\u001b[0m\u001b[0;34m,\u001b[0m \u001b[0my_train\u001b[0m\u001b[0;34m,\u001b[0m \u001b[0mepochs\u001b[0m\u001b[0;34m=\u001b[0m\u001b[0;36m10\u001b[0m\u001b[0;34m,\u001b[0m \u001b[0mbatch_size\u001b[0m\u001b[0;34m=\u001b[0m\u001b[0;36m32\u001b[0m\u001b[0;34m,\u001b[0m \u001b[0mvalidation_split\u001b[0m\u001b[0;34m=\u001b[0m\u001b[0;36m0.1\u001b[0m\u001b[0;34m)\u001b[0m\u001b[0;34m\u001b[0m\u001b[0;34m\u001b[0m\u001b[0m\n\u001b[0m",
            "\u001b[0;32m/usr/local/lib/python3.10/dist-packages/keras/src/utils/traceback_utils.py\u001b[0m in \u001b[0;36merror_handler\u001b[0;34m(*args, **kwargs)\u001b[0m\n\u001b[1;32m    120\u001b[0m             \u001b[0;31m# To get the full stack trace, call:\u001b[0m\u001b[0;34m\u001b[0m\u001b[0;34m\u001b[0m\u001b[0m\n\u001b[1;32m    121\u001b[0m             \u001b[0;31m# `keras.config.disable_traceback_filtering()`\u001b[0m\u001b[0;34m\u001b[0m\u001b[0;34m\u001b[0m\u001b[0m\n\u001b[0;32m--> 122\u001b[0;31m             \u001b[0;32mraise\u001b[0m \u001b[0me\u001b[0m\u001b[0;34m.\u001b[0m\u001b[0mwith_traceback\u001b[0m\u001b[0;34m(\u001b[0m\u001b[0mfiltered_tb\u001b[0m\u001b[0;34m)\u001b[0m \u001b[0;32mfrom\u001b[0m \u001b[0;32mNone\u001b[0m\u001b[0;34m\u001b[0m\u001b[0;34m\u001b[0m\u001b[0m\n\u001b[0m\u001b[1;32m    123\u001b[0m         \u001b[0;32mfinally\u001b[0m\u001b[0;34m:\u001b[0m\u001b[0;34m\u001b[0m\u001b[0;34m\u001b[0m\u001b[0m\n\u001b[1;32m    124\u001b[0m             \u001b[0;32mdel\u001b[0m \u001b[0mfiltered_tb\u001b[0m\u001b[0;34m\u001b[0m\u001b[0;34m\u001b[0m\u001b[0m\n",
            "\u001b[0;32m/usr/local/lib/python3.10/dist-packages/tensorflow/python/eager/execute.py\u001b[0m in \u001b[0;36mquick_execute\u001b[0;34m(op_name, num_outputs, inputs, attrs, ctx, name)\u001b[0m\n\u001b[1;32m     51\u001b[0m   \u001b[0;32mtry\u001b[0m\u001b[0;34m:\u001b[0m\u001b[0;34m\u001b[0m\u001b[0;34m\u001b[0m\u001b[0m\n\u001b[1;32m     52\u001b[0m     \u001b[0mctx\u001b[0m\u001b[0;34m.\u001b[0m\u001b[0mensure_initialized\u001b[0m\u001b[0;34m(\u001b[0m\u001b[0;34m)\u001b[0m\u001b[0;34m\u001b[0m\u001b[0;34m\u001b[0m\u001b[0m\n\u001b[0;32m---> 53\u001b[0;31m     tensors = pywrap_tfe.TFE_Py_Execute(ctx._handle, device_name, op_name,\n\u001b[0m\u001b[1;32m     54\u001b[0m                                         inputs, attrs, num_outputs)\n\u001b[1;32m     55\u001b[0m   \u001b[0;32mexcept\u001b[0m \u001b[0mcore\u001b[0m\u001b[0;34m.\u001b[0m\u001b[0m_NotOkStatusException\u001b[0m \u001b[0;32mas\u001b[0m \u001b[0me\u001b[0m\u001b[0;34m:\u001b[0m\u001b[0;34m\u001b[0m\u001b[0;34m\u001b[0m\u001b[0m\n",
            "\u001b[0;31mUnimplementedError\u001b[0m: Graph execution error:\n\nDetected at node compile_loss/binary_crossentropy/Cast defined at (most recent call last):\n  File \"/usr/lib/python3.10/runpy.py\", line 196, in _run_module_as_main\n\n  File \"/usr/lib/python3.10/runpy.py\", line 86, in _run_code\n\n  File \"/usr/local/lib/python3.10/dist-packages/colab_kernel_launcher.py\", line 37, in <module>\n\n  File \"/usr/local/lib/python3.10/dist-packages/traitlets/config/application.py\", line 992, in launch_instance\n\n  File \"/usr/local/lib/python3.10/dist-packages/ipykernel/kernelapp.py\", line 619, in start\n\n  File \"/usr/local/lib/python3.10/dist-packages/tornado/platform/asyncio.py\", line 195, in start\n\n  File \"/usr/lib/python3.10/asyncio/base_events.py\", line 603, in run_forever\n\n  File \"/usr/lib/python3.10/asyncio/base_events.py\", line 1909, in _run_once\n\n  File \"/usr/lib/python3.10/asyncio/events.py\", line 80, in _run\n\n  File \"/usr/local/lib/python3.10/dist-packages/tornado/ioloop.py\", line 685, in <lambda>\n\n  File \"/usr/local/lib/python3.10/dist-packages/tornado/ioloop.py\", line 738, in _run_callback\n\n  File \"/usr/local/lib/python3.10/dist-packages/tornado/gen.py\", line 825, in inner\n\n  File \"/usr/local/lib/python3.10/dist-packages/tornado/gen.py\", line 786, in run\n\n  File \"/usr/local/lib/python3.10/dist-packages/ipykernel/kernelbase.py\", line 361, in process_one\n\n  File \"/usr/local/lib/python3.10/dist-packages/tornado/gen.py\", line 234, in wrapper\n\n  File \"/usr/local/lib/python3.10/dist-packages/ipykernel/kernelbase.py\", line 261, in dispatch_shell\n\n  File \"/usr/local/lib/python3.10/dist-packages/tornado/gen.py\", line 234, in wrapper\n\n  File \"/usr/local/lib/python3.10/dist-packages/ipykernel/kernelbase.py\", line 539, in execute_request\n\n  File \"/usr/local/lib/python3.10/dist-packages/tornado/gen.py\", line 234, in wrapper\n\n  File \"/usr/local/lib/python3.10/dist-packages/ipykernel/ipkernel.py\", line 302, in do_execute\n\n  File \"/usr/local/lib/python3.10/dist-packages/ipykernel/zmqshell.py\", line 539, in run_cell\n\n  File \"/usr/local/lib/python3.10/dist-packages/IPython/core/interactiveshell.py\", line 2975, in run_cell\n\n  File \"/usr/local/lib/python3.10/dist-packages/IPython/core/interactiveshell.py\", line 3030, in _run_cell\n\n  File \"/usr/local/lib/python3.10/dist-packages/IPython/core/async_helpers.py\", line 78, in _pseudo_sync_runner\n\n  File \"/usr/local/lib/python3.10/dist-packages/IPython/core/interactiveshell.py\", line 3257, in run_cell_async\n\n  File \"/usr/local/lib/python3.10/dist-packages/IPython/core/interactiveshell.py\", line 3473, in run_ast_nodes\n\n  File \"/usr/local/lib/python3.10/dist-packages/IPython/core/interactiveshell.py\", line 3553, in run_code\n\n  File \"<ipython-input-10-08bada317efb>\", line 1, in <cell line: 1>\n\n  File \"/usr/local/lib/python3.10/dist-packages/keras/src/utils/traceback_utils.py\", line 117, in error_handler\n\n  File \"/usr/local/lib/python3.10/dist-packages/keras/src/backend/tensorflow/trainer.py\", line 320, in fit\n\n  File \"/usr/local/lib/python3.10/dist-packages/keras/src/backend/tensorflow/trainer.py\", line 121, in one_step_on_iterator\n\n  File \"/usr/local/lib/python3.10/dist-packages/keras/src/backend/tensorflow/trainer.py\", line 108, in one_step_on_data\n\n  File \"/usr/local/lib/python3.10/dist-packages/keras/src/backend/tensorflow/trainer.py\", line 54, in train_step\n\n  File \"/usr/local/lib/python3.10/dist-packages/keras/src/trainers/trainer.py\", line 359, in _compute_loss\n\n  File \"/usr/local/lib/python3.10/dist-packages/keras/src/trainers/trainer.py\", line 327, in compute_loss\n\n  File \"/usr/local/lib/python3.10/dist-packages/keras/src/trainers/compile_utils.py\", line 611, in __call__\n\n  File \"/usr/local/lib/python3.10/dist-packages/keras/src/trainers/compile_utils.py\", line 652, in call\n\n  File \"/usr/local/lib/python3.10/dist-packages/keras/src/losses/loss.py\", line 56, in __call__\n\n  File \"/usr/local/lib/python3.10/dist-packages/keras/src/tree/tree_api.py\", line 148, in map_structure\n\n  File \"/usr/local/lib/python3.10/dist-packages/keras/src/tree/optree_impl.py\", line 79, in map_structure\n\n  File \"/usr/local/lib/python3.10/dist-packages/optree/ops.py\", line 752, in tree_map\n\n  File \"/usr/local/lib/python3.10/dist-packages/keras/src/losses/loss.py\", line 57, in <lambda>\n\n  File \"/usr/local/lib/python3.10/dist-packages/keras/src/ops/core.py\", line 822, in convert_to_tensor\n\n  File \"/usr/local/lib/python3.10/dist-packages/keras/src/backend/tensorflow/core.py\", line 132, in convert_to_tensor\n\nCast string to float is not supported\n\t [[{{node compile_loss/binary_crossentropy/Cast}}]] [Op:__inference_one_step_on_iterator_1488]"
          ]
        }
      ]
    },
    {
      "cell_type": "markdown",
      "source": [
        "### Evaluating the ANN"
      ],
      "metadata": {
        "id": "0Gyepxx7m8cb"
      }
    },
    {
      "cell_type": "code",
      "source": [
        "\n",
        "ann_predictions = ann_model.predict(X_test.toarray()).argmax(axis=1)\n",
        "print(\"ANN Classification Report:\")\n",
        "print(classification_report(y_test_encoded, ann_predictions))"
      ],
      "metadata": {
        "colab": {
          "base_uri": "https://localhost:8080/",
          "height": 185
        },
        "id": "DA3oApfFm7CS",
        "outputId": "fb52b544-ba52-479b-ceb3-714be482e962"
      },
      "execution_count": 1,
      "outputs": [
        {
          "output_type": "error",
          "ename": "NameError",
          "evalue": "name 'ann_model' is not defined",
          "traceback": [
            "\u001b[0;31m---------------------------------------------------------------------------\u001b[0m",
            "\u001b[0;31mNameError\u001b[0m                                 Traceback (most recent call last)",
            "\u001b[0;32m<ipython-input-1-8fdff1314bd9>\u001b[0m in \u001b[0;36m<cell line: 1>\u001b[0;34m()\u001b[0m\n\u001b[0;32m----> 1\u001b[0;31m \u001b[0mann_predictions\u001b[0m \u001b[0;34m=\u001b[0m \u001b[0mann_model\u001b[0m\u001b[0;34m.\u001b[0m\u001b[0mpredict\u001b[0m\u001b[0;34m(\u001b[0m\u001b[0mX_test\u001b[0m\u001b[0;34m.\u001b[0m\u001b[0mtoarray\u001b[0m\u001b[0;34m(\u001b[0m\u001b[0;34m)\u001b[0m\u001b[0;34m)\u001b[0m\u001b[0;34m.\u001b[0m\u001b[0margmax\u001b[0m\u001b[0;34m(\u001b[0m\u001b[0maxis\u001b[0m\u001b[0;34m=\u001b[0m\u001b[0;36m1\u001b[0m\u001b[0;34m)\u001b[0m\u001b[0;34m\u001b[0m\u001b[0;34m\u001b[0m\u001b[0m\n\u001b[0m\u001b[1;32m      2\u001b[0m \u001b[0mprint\u001b[0m\u001b[0;34m(\u001b[0m\u001b[0;34m\"ANN Classification Report:\"\u001b[0m\u001b[0;34m)\u001b[0m\u001b[0;34m\u001b[0m\u001b[0;34m\u001b[0m\u001b[0m\n\u001b[1;32m      3\u001b[0m \u001b[0mprint\u001b[0m\u001b[0;34m(\u001b[0m\u001b[0mclassification_report\u001b[0m\u001b[0;34m(\u001b[0m\u001b[0my_test_encoded\u001b[0m\u001b[0;34m,\u001b[0m \u001b[0mann_predictions\u001b[0m\u001b[0;34m)\u001b[0m\u001b[0;34m)\u001b[0m\u001b[0;34m\u001b[0m\u001b[0;34m\u001b[0m\u001b[0m\n",
            "\u001b[0;31mNameError\u001b[0m: name 'ann_model' is not defined"
          ]
        }
      ]
    },
    {
      "cell_type": "markdown",
      "source": [
        "# CNN"
      ],
      "metadata": {
        "id": "XSQtkZrLnSrl"
      }
    },
    {
      "cell_type": "code",
      "source": [
        "from tensorflow.keras.layers import Conv1D, MaxPooling1D, Flatten\n",
        "from tensorflow.keras.utils import to_categorical\n",
        "\n",
        "# Convert labels to one-hot encoding\n",
        "y_train_categorical = to_categorical(y_train_encoded)\n",
        "y_test_categorical = to_categorical(y_test_encoded)\n",
        "\n",
        "# Reshape input for Conv1D (add sequence length dimension)\n",
        "X_train_cnn = X_train.toarray().reshape(X_train.shape[0], X_train.shape[1], 1)\n",
        "X_test_cnn = X_test.toarray().reshape(X_test.shape[0], X_test.shape[1], 1)\n",
        "\n",
        "# Define the CNN model\n",
        "cnn_model = Sequential([\n",
        "    Conv1D(filters=64, kernel_size=3, activation='relu', input_shape=(X_train.shape[1], 1)),\n",
        "    MaxPooling1D(pool_size=2),\n",
        "    Flatten(),\n",
        "    Dense(128, activation='relu'),\n",
        "    Dropout(0.2),\n",
        "    Dense(len(label_encoder.classes_), activation='softmax')  # Output layer\n",
        "])\n",
        "\n",
        "# Compile the model\n",
        "cnn_model.compile(optimizer='adam',\n",
        "                  loss='categorical_crossentropy',  # Multi-class classification\n",
        "                  metrics=['accuracy'])\n",
        "\n",
        "# Train the model\n",
        "history_cnn = cnn_model.fit(\n",
        "    X_train_cnn,\n",
        "    y_train_categorical,\n",
        "    epochs=10,\n",
        "    batch_size=32,\n",
        "    validation_split=0.1\n",
        ")\n",
        "\n",
        "# Evaluate the model\n",
        "cnn_predictions = cnn_model.predict(X_test_cnn).argmax(axis=1)\n",
        "print(\"CNN Classification Report:\")\n",
        "print(classification_report(y_test_encoded, cnn_predictions))\n"
      ],
      "metadata": {
        "id": "GusRM-0InUcg"
      },
      "execution_count": null,
      "outputs": []
    },
    {
      "cell_type": "markdown",
      "source": [
        "# RNN"
      ],
      "metadata": {
        "id": "YVyJYvOfnVM6"
      }
    },
    {
      "cell_type": "code",
      "source": [
        "from tensorflow.keras.layers import Embedding, SimpleRNN\n",
        "\n",
        "# Define the RNN model\n",
        "# Note: Embedding size and input length depend on the vocabulary size of your Questions\n",
        "rnn_model = Sequential([\n",
        "    Embedding(input_dim=X_train.shape[1], output_dim=128, input_length=X_train.shape[1]),\n",
        "    SimpleRNN(128, activation='tanh'),\n",
        "    Dense(64, activation='relu'),\n",
        "    Dropout(0.2),\n",
        "    Dense(len(label_encoder.classes_), activation='softmax')  # Output layer\n",
        "])\n",
        "\n",
        "# Compile the model\n",
        "rnn_model.compile(optimizer='adam',\n",
        "                  loss='categorical_crossentropy',  # Multi-class classification\n",
        "                  metrics=['accuracy'])\n",
        "\n",
        "# Train the model\n",
        "history_rnn = rnn_model.fit(\n",
        "    X_train.toarray(),\n",
        "    y_train_categorical,\n",
        "    epochs=10,\n",
        "    batch_size=32,\n",
        "    validation_split=0.1\n",
        ")\n",
        "\n",
        "# Evaluate the model\n",
        "rnn_predictions = rnn_model.predict(X_test.toarray()).argmax(axis=1)\n",
        "print(\"RNN Classification Report:\")\n",
        "print(classification_report(y_test_encoded, rnn_predictions))\n"
      ],
      "metadata": {
        "id": "czOlSJJHnWvI"
      },
      "execution_count": null,
      "outputs": []
    },
    {
      "cell_type": "markdown",
      "source": [
        "# Model Comparison"
      ],
      "metadata": {
        "id": "cUgM4JTnnax0"
      }
    },
    {
      "cell_type": "code",
      "source": [
        "from sklearn.metrics import accuracy_score\n",
        "\n",
        "# Compute accuracy for each model\n",
        "ann_accuracy = accuracy_score(y_test_encoded, ann_predictions)\n",
        "cnn_accuracy = accuracy_score(y_test_encoded, cnn_predictions)\n",
        "rnn_accuracy = accuracy_score(y_test_encoded, rnn_predictions)\n",
        "\n",
        "print(f\"ANN Accuracy: {ann_accuracy}\")\n",
        "print(f\"CNN Accuracy: {cnn_accuracy}\")\n",
        "print(f\"RNN Accuracy: {rnn_accuracy}\")\n"
      ],
      "metadata": {
        "id": "i2VilUxynaMN"
      },
      "execution_count": null,
      "outputs": []
    },
    {
      "cell_type": "markdown",
      "source": [
        "# CHATBOT"
      ],
      "metadata": {
        "id": "jz8l2IuDnicV"
      }
    },
    {
      "cell_type": "code",
      "source": [
        "# Interactive chatbot using the ANN model (as an example)\n",
        "while True:\n",
        "    user_input = input(\"Ask a question (or type 'exit' to quit): \")\n",
        "    if user_input.lower() == 'exit':\n",
        "        break\n",
        "\n",
        "    # Preprocess the input (same preprocessing steps as training)\n",
        "    user_input_tfidf = vectorizer.transform([user_input]).toarray()\n",
        "\n",
        "    # Make prediction\n",
        "    predicted_label = ann_model.predict(user_input_tfidf).argmax(axis=1)\n",
        "    predicted_answer = label_encoder.inverse_transform(predicted_label)\n",
        "\n",
        "    print(f\"Answer: {predicted_answer[0]}\")\n"
      ],
      "metadata": {
        "id": "MBKAFAvtnnqO"
      },
      "execution_count": null,
      "outputs": []
    }
  ]
}